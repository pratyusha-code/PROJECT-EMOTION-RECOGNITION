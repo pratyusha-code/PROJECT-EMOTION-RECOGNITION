{
 "cells": [
  {
   "cell_type": "markdown",
   "metadata": {
    "id": "5wG6xD2GWQuQ"
   },
   "source": [
    "## 1. Import the necessary libraries"
   ]
  },
  {
   "cell_type": "code",
   "execution_count": 1,
   "metadata": {
    "id": "EgR9UR_3WQuW"
   },
   "outputs": [],
   "source": [
    "import pandas as pd\n",
    "import matplotlib.pyplot as plt\n",
    "import numpy as np\n",
    "import tensorflow\n",
    "from tensorflow import keras\n",
    "from keras.losses import categorical_crossentropy\n",
    "from keras.optimizers import Adam\n",
    "from tensorflow.keras import layers\n",
    "from sklearn.model_selection import train_test_split"
   ]
  },
  {
   "cell_type": "markdown",
   "metadata": {
    "id": "MIEoZR3aWQuX"
   },
   "source": [
    "## 2. Load the dataset as a pandas dataframe"
   ]
  },
  {
   "cell_type": "code",
   "execution_count": 2,
   "metadata": {
    "colab": {
     "base_uri": "https://localhost:8080/",
     "height": 159
    },
    "id": "6ObW2kMoWQuY",
    "outputId": "427a8992-602d-412f-94b5-01cdccdabf58"
   },
   "outputs": [
    {
     "name": "stdout",
     "output_type": "stream",
     "text": [
      "(35887, 3)\n"
     ]
    },
    {
     "data": {
      "text/html": [
       "<div>\n",
       "<style scoped>\n",
       "    .dataframe tbody tr th:only-of-type {\n",
       "        vertical-align: middle;\n",
       "    }\n",
       "\n",
       "    .dataframe tbody tr th {\n",
       "        vertical-align: top;\n",
       "    }\n",
       "\n",
       "    .dataframe thead th {\n",
       "        text-align: right;\n",
       "    }\n",
       "</style>\n",
       "<table border=\"1\" class=\"dataframe\">\n",
       "  <thead>\n",
       "    <tr style=\"text-align: right;\">\n",
       "      <th></th>\n",
       "      <th>emotion</th>\n",
       "      <th>pixels</th>\n",
       "      <th>Usage</th>\n",
       "    </tr>\n",
       "  </thead>\n",
       "  <tbody>\n",
       "    <tr>\n",
       "      <th>0</th>\n",
       "      <td>0</td>\n",
       "      <td>70 80 82 72 58 58 60 63 54 58 60 48 89 115 121...</td>\n",
       "      <td>Training</td>\n",
       "    </tr>\n",
       "    <tr>\n",
       "      <th>1</th>\n",
       "      <td>0</td>\n",
       "      <td>151 150 147 155 148 133 111 140 170 174 182 15...</td>\n",
       "      <td>Training</td>\n",
       "    </tr>\n",
       "    <tr>\n",
       "      <th>2</th>\n",
       "      <td>2</td>\n",
       "      <td>231 212 156 164 174 138 161 173 182 200 106 38...</td>\n",
       "      <td>Training</td>\n",
       "    </tr>\n",
       "  </tbody>\n",
       "</table>\n",
       "</div>"
      ],
      "text/plain": [
       "   emotion                                             pixels     Usage\n",
       "0        0  70 80 82 72 58 58 60 63 54 58 60 48 89 115 121...  Training\n",
       "1        0  151 150 147 155 148 133 111 140 170 174 182 15...  Training\n",
       "2        2  231 212 156 164 174 138 161 173 182 200 106 38...  Training"
      ]
     },
     "execution_count": 2,
     "metadata": {},
     "output_type": "execute_result"
    }
   ],
   "source": [
    "#create dataframe with path to fer dataset csv file\n",
    "#df=pd.read_csv(\"/content/drive/MyDrive/Python ai course/fer2013.csv\")\n",
    "df=pd.read_csv(\"./fer2013.csv\")\n",
    "#printing dataframe shape and first 3 columns\n",
    "print(df.shape)\n",
    "df.head(3)"
   ]
  },
  {
   "cell_type": "markdown",
   "metadata": {
    "id": "FfNNT0JlWQuZ"
   },
   "source": [
    "## 3. Modify dataset to extract features and labels"
   ]
  },
  {
   "cell_type": "code",
   "execution_count": 3,
   "metadata": {
    "colab": {
     "base_uri": "https://localhost:8080/"
    },
    "id": "jy4TwaudWQuZ",
    "outputId": "1a1f7a0f-d808-47b5-afe7-5cad48cf225e"
   },
   "outputs": [
    {
     "data": {
      "text/plain": [
       "2304"
      ]
     },
     "execution_count": 3,
     "metadata": {},
     "output_type": "execute_result"
    }
   ],
   "source": [
    "#we allot each pixels to a sepaarte column\n",
    "no_of_pixels=len(list(df['pixels'][0].split(' '))) \n",
    "\n",
    "no_of_pixels #contains 48*48 pixels for each image"
   ]
  },
  {
   "cell_type": "code",
   "execution_count": 4,
   "metadata": {
    "colab": {
     "base_uri": "https://localhost:8080/"
    },
    "id": "2ssmyZZrWQua",
    "outputId": "1f024ca4-41b2-4df5-9306-a094e72d9391"
   },
   "outputs": [
    {
     "data": {
      "text/plain": [
       "(35887, 2304)"
      ]
     },
     "execution_count": 4,
     "metadata": {},
     "output_type": "execute_result"
    }
   ],
   "source": [
    "# create a 2D numpy array where rows corresponds to images, \n",
    "#and columns corresponds to pixels. Thus, \n",
    "#order of matrix=(no of images) x (no of pixels)\n",
    "arr=np.zeros((df.shape[0],no_of_pixels))\n",
    "\n",
    "for index, row in df.iterrows():       #iterate rowwise in df\n",
    "    pix=row['pixels'].split(' ')       #1D list of pixel values for each image\n",
    "    arr[index]=np.array(pix,np.int64)  #store 1D list as array in corresponding rows\n",
    "arr.shape"
   ]
  },
  {
   "cell_type": "code",
   "execution_count": 5,
   "metadata": {
    "colab": {
     "base_uri": "https://localhost:8080/",
     "height": 191
    },
    "id": "l4dNSCPHWQua",
    "outputId": "1e3d3300-20bf-4bf7-9527-3570f26f02af"
   },
   "outputs": [
    {
     "data": {
      "text/html": [
       "<div>\n",
       "<style scoped>\n",
       "    .dataframe tbody tr th:only-of-type {\n",
       "        vertical-align: middle;\n",
       "    }\n",
       "\n",
       "    .dataframe tbody tr th {\n",
       "        vertical-align: top;\n",
       "    }\n",
       "\n",
       "    .dataframe thead th {\n",
       "        text-align: right;\n",
       "    }\n",
       "</style>\n",
       "<table border=\"1\" class=\"dataframe\">\n",
       "  <thead>\n",
       "    <tr style=\"text-align: right;\">\n",
       "      <th></th>\n",
       "      <th>0</th>\n",
       "      <th>1</th>\n",
       "      <th>2</th>\n",
       "      <th>3</th>\n",
       "      <th>4</th>\n",
       "      <th>5</th>\n",
       "      <th>6</th>\n",
       "      <th>7</th>\n",
       "      <th>8</th>\n",
       "      <th>9</th>\n",
       "      <th>...</th>\n",
       "      <th>2296</th>\n",
       "      <th>2297</th>\n",
       "      <th>2298</th>\n",
       "      <th>2299</th>\n",
       "      <th>2300</th>\n",
       "      <th>2301</th>\n",
       "      <th>2302</th>\n",
       "      <th>2303</th>\n",
       "      <th>emotion</th>\n",
       "      <th>Usage</th>\n",
       "    </tr>\n",
       "  </thead>\n",
       "  <tbody>\n",
       "    <tr>\n",
       "      <th>0</th>\n",
       "      <td>70.0</td>\n",
       "      <td>80.0</td>\n",
       "      <td>82.0</td>\n",
       "      <td>72.0</td>\n",
       "      <td>58.0</td>\n",
       "      <td>58.0</td>\n",
       "      <td>60.0</td>\n",
       "      <td>63.0</td>\n",
       "      <td>54.0</td>\n",
       "      <td>58.0</td>\n",
       "      <td>...</td>\n",
       "      <td>183.0</td>\n",
       "      <td>136.0</td>\n",
       "      <td>106.0</td>\n",
       "      <td>116.0</td>\n",
       "      <td>95.0</td>\n",
       "      <td>106.0</td>\n",
       "      <td>109.0</td>\n",
       "      <td>82.0</td>\n",
       "      <td>0</td>\n",
       "      <td>Training</td>\n",
       "    </tr>\n",
       "    <tr>\n",
       "      <th>1</th>\n",
       "      <td>151.0</td>\n",
       "      <td>150.0</td>\n",
       "      <td>147.0</td>\n",
       "      <td>155.0</td>\n",
       "      <td>148.0</td>\n",
       "      <td>133.0</td>\n",
       "      <td>111.0</td>\n",
       "      <td>140.0</td>\n",
       "      <td>170.0</td>\n",
       "      <td>174.0</td>\n",
       "      <td>...</td>\n",
       "      <td>95.0</td>\n",
       "      <td>108.0</td>\n",
       "      <td>102.0</td>\n",
       "      <td>67.0</td>\n",
       "      <td>171.0</td>\n",
       "      <td>193.0</td>\n",
       "      <td>183.0</td>\n",
       "      <td>184.0</td>\n",
       "      <td>0</td>\n",
       "      <td>Training</td>\n",
       "    </tr>\n",
       "    <tr>\n",
       "      <th>2</th>\n",
       "      <td>231.0</td>\n",
       "      <td>212.0</td>\n",
       "      <td>156.0</td>\n",
       "      <td>164.0</td>\n",
       "      <td>174.0</td>\n",
       "      <td>138.0</td>\n",
       "      <td>161.0</td>\n",
       "      <td>173.0</td>\n",
       "      <td>182.0</td>\n",
       "      <td>200.0</td>\n",
       "      <td>...</td>\n",
       "      <td>152.0</td>\n",
       "      <td>122.0</td>\n",
       "      <td>114.0</td>\n",
       "      <td>101.0</td>\n",
       "      <td>97.0</td>\n",
       "      <td>88.0</td>\n",
       "      <td>110.0</td>\n",
       "      <td>152.0</td>\n",
       "      <td>2</td>\n",
       "      <td>Training</td>\n",
       "    </tr>\n",
       "  </tbody>\n",
       "</table>\n",
       "<p>3 rows × 2306 columns</p>\n",
       "</div>"
      ],
      "text/plain": [
       "       0      1      2      3      4      5      6      7      8      9  ...  \\\n",
       "0   70.0   80.0   82.0   72.0   58.0   58.0   60.0   63.0   54.0   58.0  ...   \n",
       "1  151.0  150.0  147.0  155.0  148.0  133.0  111.0  140.0  170.0  174.0  ...   \n",
       "2  231.0  212.0  156.0  164.0  174.0  138.0  161.0  173.0  182.0  200.0  ...   \n",
       "\n",
       "    2296   2297   2298   2299   2300   2301   2302   2303  emotion     Usage  \n",
       "0  183.0  136.0  106.0  116.0   95.0  106.0  109.0   82.0        0  Training  \n",
       "1   95.0  108.0  102.0   67.0  171.0  193.0  183.0  184.0        0  Training  \n",
       "2  152.0  122.0  114.0  101.0   97.0   88.0  110.0  152.0        2  Training  \n",
       "\n",
       "[3 rows x 2306 columns]"
      ]
     },
     "execution_count": 5,
     "metadata": {},
     "output_type": "execute_result"
    }
   ],
   "source": [
    "#create a modified dataframe that contains the pixel values in separate columns \n",
    "df_mod=pd.DataFrame(arr)\n",
    "df_mod['emotion']=df['emotion']\n",
    "df_mod['Usage']=df['Usage']\n",
    "df_mod.head(3)"
   ]
  },
  {
   "cell_type": "code",
   "execution_count": 6,
   "metadata": {
    "colab": {
     "base_uri": "https://localhost:8080/"
    },
    "id": "nUccKSyUWQub",
    "outputId": "7ac67edd-7b15-414b-8ed8-7705d0ee2c9a"
   },
   "outputs": [
    {
     "data": {
      "text/plain": [
       "array([0, 2, 4, 6, 3, 5, 1], dtype=int64)"
      ]
     },
     "execution_count": 6,
     "metadata": {},
     "output_type": "execute_result"
    }
   ],
   "source": [
    "#list out all unique emotions present that will be identified. \n",
    "#the emotions are identified using numbers(or indices) instead of actual string name.\n",
    "# emotions = ('angry','disgust','fear','happy','sad','surprise','neutral')\n",
    "df_mod['emotion'].unique()"
   ]
  },
  {
   "cell_type": "markdown",
   "metadata": {
    "id": "nuRa9-TGWQub"
   },
   "source": [
    "\n",
    "## 4. Split dataset into train, test and validation datasets"
   ]
  },
  {
   "cell_type": "code",
   "execution_count": 7,
   "metadata": {
    "colab": {
     "base_uri": "https://localhost:8080/"
    },
    "id": "9MG1JJShWQub",
    "outputId": "491c6921-18f5-4a23-a076-e9b3f0cb05d7"
   },
   "outputs": [
    {
     "data": {
      "text/plain": [
       "array(['Training', 'PublicTest', 'PrivateTest'], dtype=object)"
      ]
     },
     "execution_count": 7,
     "metadata": {},
     "output_type": "execute_result"
    }
   ],
   "source": [
    "#create a training dataset where usage = \"Training\",\n",
    "#testing dataset where usage = \"PublicTest\",\n",
    "#validation dataset where usage=\"PrivateTest\"\n",
    "df_mod.Usage.unique()"
   ]
  },
  {
   "cell_type": "code",
   "execution_count": 8,
   "metadata": {
    "colab": {
     "base_uri": "https://localhost:8080/",
     "height": 242
    },
    "id": "ammfPp6ZWQub",
    "outputId": "41cea637-aa87-430a-f820-4cd9f5b0ff85"
   },
   "outputs": [
    {
     "name": "stdout",
     "output_type": "stream",
     "text": [
      "(28709, 2306) \n",
      " (3589, 2306) \n",
      " (3589, 2306)\n"
     ]
    },
    {
     "data": {
      "text/html": [
       "<div>\n",
       "<style scoped>\n",
       "    .dataframe tbody tr th:only-of-type {\n",
       "        vertical-align: middle;\n",
       "    }\n",
       "\n",
       "    .dataframe tbody tr th {\n",
       "        vertical-align: top;\n",
       "    }\n",
       "\n",
       "    .dataframe thead th {\n",
       "        text-align: right;\n",
       "    }\n",
       "</style>\n",
       "<table border=\"1\" class=\"dataframe\">\n",
       "  <thead>\n",
       "    <tr style=\"text-align: right;\">\n",
       "      <th></th>\n",
       "      <th>0</th>\n",
       "      <th>1</th>\n",
       "      <th>2</th>\n",
       "      <th>3</th>\n",
       "      <th>4</th>\n",
       "      <th>5</th>\n",
       "      <th>6</th>\n",
       "      <th>7</th>\n",
       "      <th>8</th>\n",
       "      <th>9</th>\n",
       "      <th>...</th>\n",
       "      <th>2296</th>\n",
       "      <th>2297</th>\n",
       "      <th>2298</th>\n",
       "      <th>2299</th>\n",
       "      <th>2300</th>\n",
       "      <th>2301</th>\n",
       "      <th>2302</th>\n",
       "      <th>2303</th>\n",
       "      <th>emotion</th>\n",
       "      <th>Usage</th>\n",
       "    </tr>\n",
       "  </thead>\n",
       "  <tbody>\n",
       "    <tr>\n",
       "      <th>0</th>\n",
       "      <td>70.0</td>\n",
       "      <td>80.0</td>\n",
       "      <td>82.0</td>\n",
       "      <td>72.0</td>\n",
       "      <td>58.0</td>\n",
       "      <td>58.0</td>\n",
       "      <td>60.0</td>\n",
       "      <td>63.0</td>\n",
       "      <td>54.0</td>\n",
       "      <td>58.0</td>\n",
       "      <td>...</td>\n",
       "      <td>183.0</td>\n",
       "      <td>136.0</td>\n",
       "      <td>106.0</td>\n",
       "      <td>116.0</td>\n",
       "      <td>95.0</td>\n",
       "      <td>106.0</td>\n",
       "      <td>109.0</td>\n",
       "      <td>82.0</td>\n",
       "      <td>0</td>\n",
       "      <td>Training</td>\n",
       "    </tr>\n",
       "    <tr>\n",
       "      <th>1</th>\n",
       "      <td>151.0</td>\n",
       "      <td>150.0</td>\n",
       "      <td>147.0</td>\n",
       "      <td>155.0</td>\n",
       "      <td>148.0</td>\n",
       "      <td>133.0</td>\n",
       "      <td>111.0</td>\n",
       "      <td>140.0</td>\n",
       "      <td>170.0</td>\n",
       "      <td>174.0</td>\n",
       "      <td>...</td>\n",
       "      <td>95.0</td>\n",
       "      <td>108.0</td>\n",
       "      <td>102.0</td>\n",
       "      <td>67.0</td>\n",
       "      <td>171.0</td>\n",
       "      <td>193.0</td>\n",
       "      <td>183.0</td>\n",
       "      <td>184.0</td>\n",
       "      <td>0</td>\n",
       "      <td>Training</td>\n",
       "    </tr>\n",
       "    <tr>\n",
       "      <th>2</th>\n",
       "      <td>231.0</td>\n",
       "      <td>212.0</td>\n",
       "      <td>156.0</td>\n",
       "      <td>164.0</td>\n",
       "      <td>174.0</td>\n",
       "      <td>138.0</td>\n",
       "      <td>161.0</td>\n",
       "      <td>173.0</td>\n",
       "      <td>182.0</td>\n",
       "      <td>200.0</td>\n",
       "      <td>...</td>\n",
       "      <td>152.0</td>\n",
       "      <td>122.0</td>\n",
       "      <td>114.0</td>\n",
       "      <td>101.0</td>\n",
       "      <td>97.0</td>\n",
       "      <td>88.0</td>\n",
       "      <td>110.0</td>\n",
       "      <td>152.0</td>\n",
       "      <td>2</td>\n",
       "      <td>Training</td>\n",
       "    </tr>\n",
       "  </tbody>\n",
       "</table>\n",
       "<p>3 rows × 2306 columns</p>\n",
       "</div>"
      ],
      "text/plain": [
       "       0      1      2      3      4      5      6      7      8      9  ...  \\\n",
       "0   70.0   80.0   82.0   72.0   58.0   58.0   60.0   63.0   54.0   58.0  ...   \n",
       "1  151.0  150.0  147.0  155.0  148.0  133.0  111.0  140.0  170.0  174.0  ...   \n",
       "2  231.0  212.0  156.0  164.0  174.0  138.0  161.0  173.0  182.0  200.0  ...   \n",
       "\n",
       "    2296   2297   2298   2299   2300   2301   2302   2303  emotion     Usage  \n",
       "0  183.0  136.0  106.0  116.0   95.0  106.0  109.0   82.0        0  Training  \n",
       "1   95.0  108.0  102.0   67.0  171.0  193.0  183.0  184.0        0  Training  \n",
       "2  152.0  122.0  114.0  101.0   97.0   88.0  110.0  152.0        2  Training  \n",
       "\n",
       "[3 rows x 2306 columns]"
      ]
     },
     "execution_count": 8,
     "metadata": {},
     "output_type": "execute_result"
    }
   ],
   "source": [
    "dftr=df_mod[df_mod.Usage==\"Training\"]       #training\n",
    "dfte=df_mod[df_mod.Usage=='PublicTest']     #testing\n",
    "dfval=df_mod[df_mod.Usage=='PrivateTest']   #validation\n",
    "\n",
    "#print shapes of each dataset\n",
    "print(dftr.shape,\"\\n\",dfte.shape,\"\\n\",dfval.shape)\n",
    "\n",
    "dftr.head(3)"
   ]
  },
  {
   "cell_type": "code",
   "execution_count": 9,
   "metadata": {
    "colab": {
     "base_uri": "https://localhost:8080/"
    },
    "id": "W6-Sye3_WQuc",
    "outputId": "279eb8a7-ea1e-4ffe-a71d-fe325137312d"
   },
   "outputs": [
    {
     "name": "stdout",
     "output_type": "stream",
     "text": [
      "(28709, 2304) (28709,) (3589, 2304) (3589,) (3589, 2304) (3589,)\n"
     ]
    }
   ],
   "source": [
    "#from each dataset, extract the features and labels\n",
    "#features(x-part) = the pixel values (dropping the 'Usage' and 'emotion' columns)\n",
    "#labels(y-part) = the 'emotion' column\n",
    "\n",
    "#training\n",
    "xtr=dftr.drop(['Usage','emotion'],axis=1)\n",
    "ytr=dftr['emotion']\n",
    "\n",
    "#testing\n",
    "xte=dfte.drop(['Usage','emotion'],axis=1)\n",
    "yte=dfte['emotion']\n",
    "\n",
    "#validation\n",
    "xval=dfval.drop(['Usage','emotion'],axis=1)\n",
    "yval=dfval['emotion']\n",
    "\n",
    "print(xtr.shape,ytr.shape,xte.shape, yte.shape,xval.shape, yval.shape)"
   ]
  },
  {
   "cell_type": "code",
   "execution_count": 10,
   "metadata": {
    "id": "t46hbmNIWQuc"
   },
   "outputs": [],
   "source": [
    "#to match the feature array dimension with the model input size, (which is 48,48,1),\n",
    "#resize the feature 2D arrays into 4D array, i.e. 3D for each image\n",
    "\n",
    "xtr=np.array(xtr).reshape(28709,48,48,1)\n",
    "xte=np.array(xte).reshape(3589,48,48,1)\n",
    "xval=np.array(xval).reshape(3589,48,48,1)\n",
    "\n",
    "#normalise the pixel values in all feature datasets\n",
    "xtr=xtr/255\n",
    "xte=xte/255\n",
    "xval=xval/255"
   ]
  },
  {
   "cell_type": "markdown",
   "metadata": {
    "id": "PHJ7szr9WQuc"
   },
   "source": [
    "## 5. Building CNN model"
   ]
  },
  {
   "cell_type": "code",
   "execution_count": 11,
   "metadata": {
    "colab": {
     "base_uri": "https://localhost:8080/"
    },
    "id": "BD87oUtjWQud",
    "outputId": "b47aabfb-8d6f-4a5d-ca26-c1373e885beb"
   },
   "outputs": [
    {
     "name": "stdout",
     "output_type": "stream",
     "text": [
      "Model: \"sequential\"\n",
      "_________________________________________________________________\n",
      "Layer (type)                 Output Shape              Param #   \n",
      "=================================================================\n",
      "conv2d (Conv2D)              (None, 46, 46, 64)        640       \n",
      "_________________________________________________________________\n",
      "conv2d_1 (Conv2D)            (None, 44, 44, 64)        36928     \n",
      "_________________________________________________________________\n",
      "max_pooling2d (MaxPooling2D) (None, 22, 22, 64)        0         \n",
      "_________________________________________________________________\n",
      "conv2d_2 (Conv2D)            (None, 20, 20, 128)       73856     \n",
      "_________________________________________________________________\n",
      "conv2d_3 (Conv2D)            (None, 18, 18, 128)       147584    \n",
      "_________________________________________________________________\n",
      "max_pooling2d_1 (MaxPooling2 (None, 9, 9, 128)         0         \n",
      "_________________________________________________________________\n",
      "conv2d_4 (Conv2D)            (None, 7, 7, 512)         590336    \n",
      "_________________________________________________________________\n",
      "conv2d_5 (Conv2D)            (None, 5, 5, 512)         2359808   \n",
      "_________________________________________________________________\n",
      "max_pooling2d_2 (MaxPooling2 (None, 2, 2, 512)         0         \n",
      "_________________________________________________________________\n",
      "flatten (Flatten)            (None, 2048)              0         \n",
      "_________________________________________________________________\n",
      "dense (Dense)                (None, 512)               1049088   \n",
      "_________________________________________________________________\n",
      "dense_1 (Dense)              (None, 512)               262656    \n",
      "_________________________________________________________________\n",
      "dense_2 (Dense)              (None, 7)                 3591      \n",
      "=================================================================\n",
      "Total params: 4,524,487\n",
      "Trainable params: 4,524,487\n",
      "Non-trainable params: 0\n",
      "_________________________________________________________________\n"
     ]
    }
   ],
   "source": [
    "\n",
    "#creating the cnn model as a sequential model\n",
    "model = keras.Sequential()\n",
    "\n",
    "#FIRST CONVOLUTION LAYER\n",
    "model.add(layers.Conv2D(64, kernel_size=(3,3), activation='relu', input_shape=(48,48,1)))\n",
    "model.add(layers.Conv2D(64, kernel_size= (3, 3), activation='relu'))\n",
    "model.add(layers.MaxPooling2D(pool_size=(2,2)))\n",
    "#model.add(layers.Dropout(0.25))\n",
    "\n",
    "#SECOND CONVOLUTION LAYER\n",
    "model.add(layers.Conv2D(128, (3,3), activation='relu'))\n",
    "model.add(layers.Conv2D(128, (3,3), activation='relu'))\n",
    "model.add(layers.MaxPooling2D(pool_size=(2,2)))\n",
    "#model.add(layers.Dropout(0.25))\n",
    "\n",
    "#THIRD CONVOLUTION LAYER\n",
    "model.add(layers.Conv2D(512, (3,3), activation='relu'))\n",
    "model.add(layers.Conv2D(512, (3,3), activation='relu'))\n",
    "model.add(layers.MaxPooling2D(pool_size=(2,2)))\n",
    "#model.add(layers.Dropout(0.25))\n",
    "\n",
    "#Global MAXPOOLING LAYER\n",
    "model.add(layers.Flatten())\n",
    "\n",
    "#FIRST FULLY CONNECTED LAYER\n",
    "model.add(layers.Dense(512, activation='relu'))\n",
    "\n",
    "#SECOND FULLY CONNECTED LAYER\n",
    "model.add(layers.Dense(512, activation='relu'))\n",
    "\n",
    "#OUTPUT LAYER\n",
    "model.add(layers.Dense(7, activation=\"softmax\"))\n",
    "\n",
    "model.summary()"
   ]
  },
  {
   "cell_type": "code",
   "execution_count": 12,
   "metadata": {
    "id": "-OmxNQlZWQud"
   },
   "outputs": [],
   "source": [
    "#Compliling the model\n",
    "model.compile(loss=keras.losses.SparseCategoricalCrossentropy(),\n",
    "              optimizer=keras.optimizers.Adam(),\n",
    "              metrics=['accuracy'])"
   ]
  },
  {
   "cell_type": "code",
   "execution_count": null,
   "metadata": {
    "colab": {
     "base_uri": "https://localhost:8080/"
    },
    "id": "4_TjkOTCWQud",
    "outputId": "7d7d51c2-acf1-4d74-fd67-016a018db5c3"
   },
   "outputs": [
    {
     "name": "stdout",
     "output_type": "stream",
     "text": [
      "Epoch 1/100\n",
      "449/449 [==============================] - 667s 1s/step - loss: 1.8165 - accuracy: 0.2507 - val_loss: 1.8187 - val_accuracy: 0.2449\n",
      "Epoch 2/100\n",
      " 28/449 [>.............................] - ETA: 9:45 - loss: 1.8237 - accuracy: 0.2511"
     ]
    }
   ],
   "source": [
    "history=model.fit(xtr,ytr, validation_data=(xval,yval), batch_size=64, epochs=100)"
   ]
  },
  {
   "cell_type": "code",
   "execution_count": 21,
   "metadata": {
    "id": "KgDiSYq8WQud"
   },
   "outputs": [],
   "source": [
    "cnn = model.to_json()\n",
    "with open(\"cnn_emrec1.json\", \"w\") as json_file:\n",
    "    json_file.write(cnn)\n",
    "model.save_weights(\"cnn_emrec_weights1.h5\")\n"
   ]
  },
  {
   "cell_type": "code",
   "execution_count": null,
   "metadata": {},
   "outputs": [],
   "source": [
    "'''emotions=('angry','disgust','fear','happy','sad','surprise','neutral')\n",
    "for i in range(0,6):\n",
    "    print(len(list(dftr['Usage'][dftr.emotion==i])))\n",
    "    print(len(list(dfte.emotion==i)))\n",
    "    print(len(list(dfval.emotion==i)))\n",
    "    print(emotions[i])'''"
   ]
  }
 ],
 "metadata": {
  "accelerator": "GPU",
  "colab": {
   "name": "EMRECOGNITION.ipynb",
   "provenance": [],
   "toc_visible": true
  },
  "kernelspec": {
   "display_name": "Python 3",
   "language": "python",
   "name": "python3"
  },
  "language_info": {
   "codemirror_mode": {
    "name": "ipython",
    "version": 3
   },
   "file_extension": ".py",
   "mimetype": "text/x-python",
   "name": "python",
   "nbconvert_exporter": "python",
   "pygments_lexer": "ipython3",
   "version": "3.7.8"
  }
 },
 "nbformat": 4,
 "nbformat_minor": 1
}
